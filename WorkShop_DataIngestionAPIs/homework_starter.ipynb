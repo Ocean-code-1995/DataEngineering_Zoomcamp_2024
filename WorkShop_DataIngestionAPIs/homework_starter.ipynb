{
  "cells": [
    {
      "cell_type": "markdown",
      "metadata": {
        "id": "mrTFv5nPClXh"
      },
      "source": [
        "# **Homework**: Data talks club data engineering zoomcamp Data loading workshop\n",
        "\n",
        "Hello folks, let's practice what we learned - Loading data with the best practices of data engineering.\n",
        "\n",
        "Here are the exercises we will do\n",
        "\n",
        "**`Demstration of workshop content`***\n",
        "- dlt hub:\n",
        "  - https://dlthub.com\n",
        "- Workshop video:\n",
        "  - https://www.youtube.com/watch?v=oLXhBM7nf2Q\n",
        "#\n",
        "- Workshop notebook:\n",
        "  - https://github.com/DataTalksClub/data-engineering-zoomcamp/blob/main/cohorts/2024/workshops/dlt_resources/workshop.ipynb\n",
        "#\n",
        "- Intro:\n",
        "  - https://github.com/DataTalksClub/data-engineering-zoomcamp/blob/main/cohorts/2024/workshops/dlt_resources/data_ingestion_workshop.md\n"
      ]
    },
    {
      "cell_type": "markdown",
      "metadata": {
        "id": "wLF4iXf-NR7t"
      },
      "source": [
        "# 1. Use a generator\n",
        "\n",
        "Remember the concept of generator? Let's practice using them to futher our understanding of how they work.\n",
        "\n",
        "Let's define a generator and then run it as practice.\n",
        "\n",
        "**Answer the following questions:**\n",
        "\n",
        "- **Question 1: What is the sum of the outputs of the generator for limit = 5?**\n",
        "- **Question 2: What is the 13th number yielded**\n",
        "\n",
        "I suggest practicing these questions without GPT as the purpose is to further your learning."
      ]
    },
    {
      "cell_type": "code",
      "execution_count": null,
      "metadata": {
        "colab": {
          "base_uri": "https://localhost:8080/"
        },
        "id": "wLng-bDJN4jf",
        "outputId": "547683cb-5f56-4815-a903-d0d9578eb1f9"
      },
      "outputs": [
        {
          "name": "stdout",
          "output_type": "stream",
          "text": [
            "1.0\n",
            "1.4142135623730951\n",
            "1.7320508075688772\n",
            "2.0\n",
            "2.23606797749979\n"
          ]
        }
      ],
      "source": [
        "def square_root_generator(limit):\n",
        "    n = 1\n",
        "    while n <= limit:\n",
        "        yield n ** 0.5\n",
        "        n += 1\n",
        "\n",
        "# Example usage:\n",
        "limit = 5\n",
        "generator = square_root_generator(limit)\n",
        "\n",
        "for sqrt_value in generator:\n",
        "    print(sqrt_value)\n"
      ]
    },
    {
      "cell_type": "markdown",
      "metadata": {
        "id": "xbe3q55zN43j"
      },
      "source": [
        "#### **Question 1: What is the sum of the outputs of the generator for limit = 5?**"
      ]
    },
    {
      "cell_type": "code",
      "execution_count": 3,
      "metadata": {},
      "outputs": [
        {
          "name": "stdout",
          "output_type": "stream",
          "text": [
            "The sum of the square roots is 8.382332347441762.\n"
          ]
        }
      ],
      "source": [
        "def square_root_generator(limit):\n",
        "    n = 1\n",
        "    while n <= limit:\n",
        "        yield n ** 0.5\n",
        "        n += 1\n",
        "\n",
        "limit = 5\n",
        "generator = square_root_generator(limit)\n",
        "\n",
        "total = sum(generator)\n",
        "print(f\"The sum of the square roots is {total}.\")"
      ]
    },
    {
      "cell_type": "markdown",
      "metadata": {},
      "source": [
        "#### **Question 2: What is the 13th number yielded**"
      ]
    },
    {
      "cell_type": "code",
      "execution_count": 5,
      "metadata": {},
      "outputs": [
        {
          "name": "stdout",
          "output_type": "stream",
          "text": [
            "The 13th number is 3.605551275463989.\n"
          ]
        }
      ],
      "source": [
        "limit = 13\n",
        "generator = square_root_generator(limit)\n",
        "\n",
        "thirteenth_number = None\n",
        "for _ in range(limit):\n",
        "    thirteenth_number = next(generator)\n",
        "\n",
        "print(f\"The 13th number is {thirteenth_number}.\")"
      ]
    },
    {
      "cell_type": "markdown",
      "metadata": {
        "id": "vjWhILzGJMpK"
      },
      "source": [
        "# 2. Append a generator to a table with existing data\n",
        "\n",
        "\n",
        "Below you have 2 generators. You will be tasked to load them to duckdb and answer some questions from the data\n",
        "\n",
        "1. Load the first generator and calculate the sum of ages of all people. Make sure to only load it once.\n",
        "2. Append the second generator to the same table as the first.\n",
        "3. **After correctly appending the data, calculate the sum of all ages of people.**\n",
        "\n",
        "\n"
      ]
    },
    {
      "cell_type": "code",
      "execution_count": null,
      "metadata": {
        "colab": {
          "base_uri": "https://localhost:8080/"
        },
        "id": "2MoaQcdLBEk6",
        "outputId": "d2b93dc1-d83f-44ea-aeff-fdf51d75f7aa"
      },
      "outputs": [
        {
          "name": "stdout",
          "output_type": "stream",
          "text": [
            "{'ID': 1, 'Name': 'Person_1', 'Age': 26, 'City': 'City_A'}\n",
            "{'ID': 2, 'Name': 'Person_2', 'Age': 27, 'City': 'City_A'}\n",
            "{'ID': 3, 'Name': 'Person_3', 'Age': 28, 'City': 'City_A'}\n",
            "{'ID': 4, 'Name': 'Person_4', 'Age': 29, 'City': 'City_A'}\n",
            "{'ID': 5, 'Name': 'Person_5', 'Age': 30, 'City': 'City_A'}\n",
            "{'ID': 3, 'Name': 'Person_3', 'Age': 33, 'City': 'City_B', 'Occupation': 'Job_3'}\n",
            "{'ID': 4, 'Name': 'Person_4', 'Age': 34, 'City': 'City_B', 'Occupation': 'Job_4'}\n",
            "{'ID': 5, 'Name': 'Person_5', 'Age': 35, 'City': 'City_B', 'Occupation': 'Job_5'}\n",
            "{'ID': 6, 'Name': 'Person_6', 'Age': 36, 'City': 'City_B', 'Occupation': 'Job_6'}\n",
            "{'ID': 7, 'Name': 'Person_7', 'Age': 37, 'City': 'City_B', 'Occupation': 'Job_7'}\n",
            "{'ID': 8, 'Name': 'Person_8', 'Age': 38, 'City': 'City_B', 'Occupation': 'Job_8'}\n"
          ]
        }
      ],
      "source": [
        "def people_1():\n",
        "    for i in range(1, 6):\n",
        "        yield {\"ID\": i, \"Name\": f\"Person_{i}\", \"Age\": 25 + i, \"City\": \"City_A\"}\n",
        "\n",
        "for person in people_1():\n",
        "    print(person)\n",
        "\n",
        "\n",
        "def people_2():\n",
        "    for i in range(3, 9):\n",
        "        yield {\"ID\": i, \"Name\": f\"Person_{i}\", \"Age\": 30 + i, \"City\": \"City_B\", \"Occupation\": f\"Job_{i}\"}\n",
        "\n",
        "\n",
        "for person in people_2():\n",
        "    print(person)"
      ]
    },
    {
      "cell_type": "markdown",
      "metadata": {},
      "source": [
        "#### ***Install & Import Dependencies***"
      ]
    },
    {
      "cell_type": "code",
      "execution_count": 6,
      "metadata": {},
      "outputs": [
        {
          "name": "stdout",
          "output_type": "stream",
          "text": [
            "Collecting dlt\n",
            "  Using cached dlt-0.4.2-py3-none-any.whl.metadata (9.5 kB)\n",
            "Collecting duckdb\n",
            "  Using cached duckdb-0.9.2-cp310-cp310-macosx_10_9_x86_64.whl.metadata (760 bytes)\n",
            "Requirement already satisfied: PyYAML>=5.4.1 in /Users/sebastianwefers/Desktop/SEMESTER5/Innovation_Project/Joblift_for_students/myenv/lib/python3.10/site-packages (from dlt) (6.0.1)\n",
            "Collecting SQLAlchemy>=1.4.0 (from dlt)\n",
            "  Downloading SQLAlchemy-2.0.25-cp310-cp310-macosx_10_9_x86_64.whl.metadata (9.6 kB)\n",
            "Requirement already satisfied: astunparse>=1.6.3 in /Users/sebastianwefers/Desktop/SEMESTER5/Innovation_Project/Joblift_for_students/myenv/lib/python3.10/site-packages (from dlt) (1.6.3)\n",
            "Requirement already satisfied: click>=7.1 in /Users/sebastianwefers/Desktop/SEMESTER5/Innovation_Project/Joblift_for_students/myenv/lib/python3.10/site-packages (from dlt) (8.1.7)\n",
            "Requirement already satisfied: fsspec>=2022.4.0 in /Users/sebastianwefers/Desktop/SEMESTER5/Innovation_Project/Joblift_for_students/myenv/lib/python3.10/site-packages (from dlt) (2023.10.0)\n",
            "Collecting gitpython>=3.1.29 (from dlt)\n",
            "  Downloading GitPython-3.1.41-py3-none-any.whl.metadata (14 kB)\n",
            "Collecting giturlparse>=0.10.0 (from dlt)\n",
            "  Using cached giturlparse-0.12.0-py2.py3-none-any.whl.metadata (4.5 kB)\n",
            "Collecting hexbytes>=0.2.2 (from dlt)\n",
            "  Using cached hexbytes-1.0.0-py3-none-any.whl.metadata (5.3 kB)\n",
            "Collecting humanize>=4.4.0 (from dlt)\n",
            "  Using cached humanize-4.9.0-py3-none-any.whl.metadata (7.9 kB)\n",
            "Collecting jsonpath-ng>=1.5.3 (from dlt)\n",
            "  Using cached jsonpath_ng-1.6.1-py3-none-any.whl.metadata (18 kB)\n",
            "Collecting makefun>=1.15.0 (from dlt)\n",
            "  Using cached makefun-1.15.2-py2.py3-none-any.whl.metadata (3.0 kB)\n",
            "Collecting orjson>=3.6.7 (from dlt)\n",
            "  Using cached orjson-3.9.13-cp310-cp310-macosx_10_15_x86_64.macosx_11_0_arm64.macosx_10_15_universal2.whl.metadata (49 kB)\n",
            "Requirement already satisfied: packaging>=21.1 in /Users/sebastianwefers/Desktop/SEMESTER5/Innovation_Project/Joblift_for_students/myenv/lib/python3.10/site-packages (from dlt) (23.2)\n",
            "Collecting pathvalidate>=2.5.2 (from dlt)\n",
            "  Using cached pathvalidate-3.2.0-py3-none-any.whl.metadata (11 kB)\n",
            "Collecting pendulum>=2.1.2 (from dlt)\n",
            "  Using cached pendulum-3.0.0-cp310-cp310-macosx_10_12_x86_64.whl.metadata (6.9 kB)\n",
            "Requirement already satisfied: pytz>=2022.6 in /Users/sebastianwefers/Desktop/SEMESTER5/Innovation_Project/Joblift_for_students/myenv/lib/python3.10/site-packages (from dlt) (2023.3.post1)\n",
            "Requirement already satisfied: requests>=2.26.0 in /Users/sebastianwefers/Desktop/SEMESTER5/Innovation_Project/Joblift_for_students/myenv/lib/python3.10/site-packages (from dlt) (2.31.0)\n",
            "Collecting requirements-parser>=0.5.0 (from dlt)\n",
            "  Using cached requirements_parser-0.5.0-py3-none-any.whl (18 kB)\n",
            "Collecting semver>=2.13.0 (from dlt)\n",
            "  Using cached semver-3.0.2-py3-none-any.whl.metadata (5.0 kB)\n",
            "Collecting setuptools>=65.6.0 (from dlt)\n",
            "  Using cached setuptools-69.0.3-py3-none-any.whl.metadata (6.3 kB)\n",
            "Collecting simplejson>=3.17.5 (from dlt)\n",
            "  Using cached simplejson-3.19.2-cp310-cp310-macosx_10_9_x86_64.whl.metadata (3.1 kB)\n",
            "Collecting tenacity>=8.0.2 (from dlt)\n",
            "  Using cached tenacity-8.2.3-py3-none-any.whl.metadata (1.0 kB)\n",
            "Collecting tomlkit>=0.11.3 (from dlt)\n",
            "  Using cached tomlkit-0.12.3-py3-none-any.whl.metadata (2.7 kB)\n",
            "Requirement already satisfied: typing-extensions>=4.0.0 in /Users/sebastianwefers/Desktop/SEMESTER5/Innovation_Project/Joblift_for_students/myenv/lib/python3.10/site-packages (from dlt) (4.8.0)\n",
            "Requirement already satisfied: tzdata>=2022.1 in /Users/sebastianwefers/Desktop/SEMESTER5/Innovation_Project/Joblift_for_students/myenv/lib/python3.10/site-packages (from dlt) (2023.3)\n",
            "Requirement already satisfied: wheel<1.0,>=0.23.0 in /Users/sebastianwefers/Desktop/SEMESTER5/Innovation_Project/Joblift_for_students/myenv/lib/python3.10/site-packages (from astunparse>=1.6.3->dlt) (0.41.2)\n",
            "Requirement already satisfied: six<2.0,>=1.6.1 in /Users/sebastianwefers/Desktop/SEMESTER5/Innovation_Project/Joblift_for_students/myenv/lib/python3.10/site-packages (from astunparse>=1.6.3->dlt) (1.16.0)\n",
            "Collecting gitdb<5,>=4.0.1 (from gitpython>=3.1.29->dlt)\n",
            "  Using cached gitdb-4.0.11-py3-none-any.whl.metadata (1.2 kB)\n",
            "Collecting ply (from jsonpath-ng>=1.5.3->dlt)\n",
            "  Using cached ply-3.11-py2.py3-none-any.whl (49 kB)\n",
            "Requirement already satisfied: python-dateutil>=2.6 in /Users/sebastianwefers/Desktop/SEMESTER5/Innovation_Project/Joblift_for_students/myenv/lib/python3.10/site-packages (from pendulum>=2.1.2->dlt) (2.8.2)\n",
            "Collecting time-machine>=2.6.0 (from pendulum>=2.1.2->dlt)\n",
            "  Using cached time_machine-2.13.0-cp310-cp310-macosx_10_9_x86_64.whl.metadata (21 kB)\n",
            "Requirement already satisfied: charset-normalizer<4,>=2 in /Users/sebastianwefers/Desktop/SEMESTER5/Innovation_Project/Joblift_for_students/myenv/lib/python3.10/site-packages (from requests>=2.26.0->dlt) (3.3.1)\n",
            "Requirement already satisfied: idna<4,>=2.5 in /Users/sebastianwefers/Desktop/SEMESTER5/Innovation_Project/Joblift_for_students/myenv/lib/python3.10/site-packages (from requests>=2.26.0->dlt) (3.4)\n",
            "Requirement already satisfied: urllib3<3,>=1.21.1 in /Users/sebastianwefers/Desktop/SEMESTER5/Innovation_Project/Joblift_for_students/myenv/lib/python3.10/site-packages (from requests>=2.26.0->dlt) (2.0.7)\n",
            "Requirement already satisfied: certifi>=2017.4.17 in /Users/sebastianwefers/Desktop/SEMESTER5/Innovation_Project/Joblift_for_students/myenv/lib/python3.10/site-packages (from requests>=2.26.0->dlt) (2023.7.22)\n",
            "Collecting types-setuptools>=57.0.0 (from requirements-parser>=0.5.0->dlt)\n",
            "  Using cached types_setuptools-69.0.0.20240125-py3-none-any.whl.metadata (1.6 kB)\n",
            "Collecting greenlet!=0.4.17 (from SQLAlchemy>=1.4.0->dlt)\n",
            "  Downloading greenlet-3.0.3-cp310-cp310-macosx_11_0_universal2.whl.metadata (3.8 kB)\n",
            "Collecting smmap<6,>=3.0.1 (from gitdb<5,>=4.0.1->gitpython>=3.1.29->dlt)\n",
            "  Using cached smmap-5.0.1-py3-none-any.whl.metadata (4.3 kB)\n",
            "Using cached dlt-0.4.2-py3-none-any.whl (518 kB)\n",
            "Using cached duckdb-0.9.2-cp310-cp310-macosx_10_9_x86_64.whl (15.3 MB)\n",
            "Downloading GitPython-3.1.41-py3-none-any.whl (196 kB)\n",
            "\u001b[2K   \u001b[90m━━━━━━━━━━━━━━━━━━━━━━━━━━━━━━━━━━━━━━━\u001b[0m \u001b[32m196.4/196.4 kB\u001b[0m \u001b[31m963.1 kB/s\u001b[0m eta \u001b[36m0:00:00\u001b[0m0:01\u001b[0m00:01\u001b[0m\n",
            "\u001b[?25hUsing cached giturlparse-0.12.0-py2.py3-none-any.whl (15 kB)\n",
            "Using cached hexbytes-1.0.0-py3-none-any.whl (5.9 kB)\n",
            "Using cached humanize-4.9.0-py3-none-any.whl (126 kB)\n",
            "Using cached jsonpath_ng-1.6.1-py3-none-any.whl (29 kB)\n",
            "Using cached makefun-1.15.2-py2.py3-none-any.whl (22 kB)\n",
            "Using cached orjson-3.9.13-cp310-cp310-macosx_10_15_x86_64.macosx_11_0_arm64.macosx_10_15_universal2.whl (249 kB)\n",
            "Using cached pathvalidate-3.2.0-py3-none-any.whl (23 kB)\n",
            "Using cached pendulum-3.0.0-cp310-cp310-macosx_10_12_x86_64.whl (362 kB)\n",
            "Using cached semver-3.0.2-py3-none-any.whl (17 kB)\n",
            "Using cached setuptools-69.0.3-py3-none-any.whl (819 kB)\n",
            "Using cached simplejson-3.19.2-cp310-cp310-macosx_10_9_x86_64.whl (76 kB)\n",
            "Downloading SQLAlchemy-2.0.25-cp310-cp310-macosx_10_9_x86_64.whl (2.1 MB)\n",
            "\u001b[2K   \u001b[90m━━━━━━━━━━━━━━━━━━━━━━━━━━━━━━━━━━━━━━━━\u001b[0m \u001b[32m2.1/2.1 MB\u001b[0m \u001b[31m565.1 kB/s\u001b[0m eta \u001b[36m0:00:00\u001b[0m00:01\u001b[0m00:01\u001b[0m\n",
            "\u001b[?25hUsing cached tenacity-8.2.3-py3-none-any.whl (24 kB)\n",
            "Using cached tomlkit-0.12.3-py3-none-any.whl (37 kB)\n",
            "Using cached gitdb-4.0.11-py3-none-any.whl (62 kB)\n",
            "Downloading greenlet-3.0.3-cp310-cp310-macosx_11_0_universal2.whl (270 kB)\n",
            "\u001b[2K   \u001b[90m━━━━━━━━━━━━━━━━━━━━━━━━━━━━━━━━━━━━━━━━\u001b[0m \u001b[32m270.1/270.1 kB\u001b[0m \u001b[31m1.3 MB/s\u001b[0m eta \u001b[36m0:00:00\u001b[0m00:01\u001b[0m00:01\u001b[0m\n",
            "\u001b[?25hUsing cached time_machine-2.13.0-cp310-cp310-macosx_10_9_x86_64.whl (16 kB)\n",
            "Using cached types_setuptools-69.0.0.20240125-py3-none-any.whl (51 kB)\n",
            "Using cached smmap-5.0.1-py3-none-any.whl (24 kB)\n",
            "Installing collected packages: ply, makefun, types-setuptools, tomlkit, tenacity, smmap, simplejson, setuptools, semver, pathvalidate, orjson, jsonpath-ng, humanize, hexbytes, greenlet, giturlparse, duckdb, time-machine, SQLAlchemy, requirements-parser, gitdb, pendulum, gitpython, dlt\n",
            "  Attempting uninstall: setuptools\n",
            "    Found existing installation: setuptools 65.5.0\n",
            "    Uninstalling setuptools-65.5.0:\n",
            "      Successfully uninstalled setuptools-65.5.0\n",
            "Successfully installed SQLAlchemy-2.0.25 dlt-0.4.2 duckdb-0.9.2 gitdb-4.0.11 gitpython-3.1.41 giturlparse-0.12.0 greenlet-3.0.3 hexbytes-1.0.0 humanize-4.9.0 jsonpath-ng-1.6.1 makefun-1.15.2 orjson-3.9.13 pathvalidate-3.2.0 pendulum-3.0.0 ply-3.11 requirements-parser-0.5.0 semver-3.0.2 setuptools-69.0.3 simplejson-3.19.2 smmap-5.0.1 tenacity-8.2.3 time-machine-2.13.0 tomlkit-0.12.3 types-setuptools-69.0.0.20240125\n",
            "\n",
            "\u001b[1m[\u001b[0m\u001b[34;49mnotice\u001b[0m\u001b[1;39;49m]\u001b[0m\u001b[39;49m A new release of pip is available: \u001b[0m\u001b[31;49m23.3.1\u001b[0m\u001b[39;49m -> \u001b[0m\u001b[32;49m24.0\u001b[0m\n",
            "\u001b[1m[\u001b[0m\u001b[34;49mnotice\u001b[0m\u001b[1;39;49m]\u001b[0m\u001b[39;49m To update, run: \u001b[0m\u001b[32;49mpip install --upgrade pip\u001b[0m\n"
          ]
        }
      ],
      "source": [
        "!pip3 install dlt duckdb"
      ]
    },
    {
      "cell_type": "code",
      "execution_count": 7,
      "metadata": {},
      "outputs": [],
      "source": [
        "import dlt\n",
        "import duckdb"
      ]
    },
    {
      "cell_type": "markdown",
      "metadata": {
        "id": "vtdTIm4fvQCN"
      },
      "source": [
        "#### 1. Load the first generator and calculate the sum of ages of all people. Make sure to only load it once."
      ]
    },
    {
      "cell_type": "code",
      "execution_count": 12,
      "metadata": {},
      "outputs": [],
      "source": [
        "def people_1():\n",
        "    for i in range(1, 6):\n",
        "        yield {\"ID\": i, \"Name\": f\"Person_{i}\", \"Age\": 25 + i, \"City\": \"City_A\"}\n",
        "\n",
        "generator_1 = people_1()"
      ]
    },
    {
      "cell_type": "markdown",
      "metadata": {},
      "source": [
        " - Initialize db connection & pipe the data form the 1st generator:"
      ]
    },
    {
      "cell_type": "code",
      "execution_count": 13,
      "metadata": {},
      "outputs": [
        {
          "name": "stdout",
          "output_type": "stream",
          "text": [
            "Pipeline dlt_ipykernel_launcher load step completed in 0.25 seconds\n",
            "1 load package(s) were loaded to destination duckdb and into dataset people_container\n",
            "The duckdb destination used duckdb:////Users/sebastianwefers/Desktop/SEMESTER5/Data_Warehouse/Data_Engineering_Zoomcamp/WorkShop_DataIngestionAPIs/dlt_ipykernel_launcher.duckdb location to store data\n",
            "Load package 1707327891.6316001 is LOADED and contains no failed jobs\n"
          ]
        }
      ],
      "source": [
        "# define the connection to load to.\n",
        "generators_pipeline = dlt.pipeline(\n",
        "                            destination  = 'duckdb',\n",
        "                            dataset_name = 'people_container'\n",
        ")\n",
        "\n",
        "\n",
        "# we can load any generator to a table at the pipeline destnation as follows:\n",
        "info = generators_pipeline.run(\n",
        "                            data              = generator_1,\n",
        "\t\t\t\t\t\t\ttable_name        = \"people\",\n",
        "\t\t\t\t\t\t\twrite_disposition = \"replace\"\n",
        ")\n",
        "\n",
        "# the outcome metadata is returned by the load and we can inspect it by printing it.\n",
        "print(info)"
      ]
    },
    {
      "cell_type": "markdown",
      "metadata": {},
      "source": [
        "- Connect to the created db, display the corresponding table and determine the sum of all ages:"
      ]
    },
    {
      "cell_type": "code",
      "execution_count": 17,
      "metadata": {},
      "outputs": [
        {
          "name": "stdout",
          "output_type": "stream",
          "text": [
            "Loaded tables: \n"
          ]
        },
        {
          "data": {
            "text/html": [
              "<div>\n",
              "<style scoped>\n",
              "    .dataframe tbody tr th:only-of-type {\n",
              "        vertical-align: middle;\n",
              "    }\n",
              "\n",
              "    .dataframe tbody tr th {\n",
              "        vertical-align: top;\n",
              "    }\n",
              "\n",
              "    .dataframe thead th {\n",
              "        text-align: right;\n",
              "    }\n",
              "</style>\n",
              "<table border=\"1\" class=\"dataframe\">\n",
              "  <thead>\n",
              "    <tr style=\"text-align: right;\">\n",
              "      <th></th>\n",
              "      <th>name</th>\n",
              "    </tr>\n",
              "  </thead>\n",
              "  <tbody>\n",
              "    <tr>\n",
              "      <th>0</th>\n",
              "      <td>_dlt_loads</td>\n",
              "    </tr>\n",
              "    <tr>\n",
              "      <th>1</th>\n",
              "      <td>_dlt_pipeline_state</td>\n",
              "    </tr>\n",
              "    <tr>\n",
              "      <th>2</th>\n",
              "      <td>_dlt_version</td>\n",
              "    </tr>\n",
              "    <tr>\n",
              "      <th>3</th>\n",
              "      <td>people</td>\n",
              "    </tr>\n",
              "  </tbody>\n",
              "</table>\n",
              "</div>"
            ],
            "text/plain": [
              "                  name\n",
              "0           _dlt_loads\n",
              "1  _dlt_pipeline_state\n",
              "2         _dlt_version\n",
              "3               people"
            ]
          },
          "metadata": {},
          "output_type": "display_data"
        },
        {
          "name": "stdout",
          "output_type": "stream",
          "text": [
            "Loaded data: \n"
          ]
        },
        {
          "data": {
            "text/html": [
              "<div>\n",
              "<style scoped>\n",
              "    .dataframe tbody tr th:only-of-type {\n",
              "        vertical-align: middle;\n",
              "    }\n",
              "\n",
              "    .dataframe tbody tr th {\n",
              "        vertical-align: top;\n",
              "    }\n",
              "\n",
              "    .dataframe thead th {\n",
              "        text-align: right;\n",
              "    }\n",
              "</style>\n",
              "<table border=\"1\" class=\"dataframe\">\n",
              "  <thead>\n",
              "    <tr style=\"text-align: right;\">\n",
              "      <th></th>\n",
              "      <th>id</th>\n",
              "      <th>name</th>\n",
              "      <th>age</th>\n",
              "      <th>city</th>\n",
              "      <th>_dlt_load_id</th>\n",
              "      <th>_dlt_id</th>\n",
              "    </tr>\n",
              "  </thead>\n",
              "  <tbody>\n",
              "    <tr>\n",
              "      <th>0</th>\n",
              "      <td>1</td>\n",
              "      <td>Person_1</td>\n",
              "      <td>26</td>\n",
              "      <td>City_A</td>\n",
              "      <td>1707327891.6316001</td>\n",
              "      <td>9CpxkeRpEoSxyw</td>\n",
              "    </tr>\n",
              "    <tr>\n",
              "      <th>1</th>\n",
              "      <td>2</td>\n",
              "      <td>Person_2</td>\n",
              "      <td>27</td>\n",
              "      <td>City_A</td>\n",
              "      <td>1707327891.6316001</td>\n",
              "      <td>ZmYR6VgL+GnTgg</td>\n",
              "    </tr>\n",
              "    <tr>\n",
              "      <th>2</th>\n",
              "      <td>3</td>\n",
              "      <td>Person_3</td>\n",
              "      <td>28</td>\n",
              "      <td>City_A</td>\n",
              "      <td>1707327891.6316001</td>\n",
              "      <td>ADwzKZbO3QRn2Q</td>\n",
              "    </tr>\n",
              "    <tr>\n",
              "      <th>3</th>\n",
              "      <td>4</td>\n",
              "      <td>Person_4</td>\n",
              "      <td>29</td>\n",
              "      <td>City_A</td>\n",
              "      <td>1707327891.6316001</td>\n",
              "      <td>mLERUvIh71qZDg</td>\n",
              "    </tr>\n",
              "    <tr>\n",
              "      <th>4</th>\n",
              "      <td>5</td>\n",
              "      <td>Person_5</td>\n",
              "      <td>30</td>\n",
              "      <td>City_A</td>\n",
              "      <td>1707327891.6316001</td>\n",
              "      <td>T/1xlyW6chzPlw</td>\n",
              "    </tr>\n",
              "  </tbody>\n",
              "</table>\n",
              "</div>"
            ],
            "text/plain": [
              "   id      name  age    city        _dlt_load_id         _dlt_id\n",
              "0   1  Person_1   26  City_A  1707327891.6316001  9CpxkeRpEoSxyw\n",
              "1   2  Person_2   27  City_A  1707327891.6316001  ZmYR6VgL+GnTgg\n",
              "2   3  Person_3   28  City_A  1707327891.6316001  ADwzKZbO3QRn2Q\n",
              "3   4  Person_4   29  City_A  1707327891.6316001  mLERUvIh71qZDg\n",
              "4   5  Person_5   30  City_A  1707327891.6316001  T/1xlyW6chzPlw"
            ]
          },
          "metadata": {},
          "output_type": "display_data"
        },
        {
          "name": "stdout",
          "output_type": "stream",
          "text": [
            "Sum of ages: \n"
          ]
        },
        {
          "data": {
            "text/html": [
              "<div>\n",
              "<style scoped>\n",
              "    .dataframe tbody tr th:only-of-type {\n",
              "        vertical-align: middle;\n",
              "    }\n",
              "\n",
              "    .dataframe tbody tr th {\n",
              "        vertical-align: top;\n",
              "    }\n",
              "\n",
              "    .dataframe thead th {\n",
              "        text-align: right;\n",
              "    }\n",
              "</style>\n",
              "<table border=\"1\" class=\"dataframe\">\n",
              "  <thead>\n",
              "    <tr style=\"text-align: right;\">\n",
              "      <th></th>\n",
              "      <th>total_ages</th>\n",
              "    </tr>\n",
              "  </thead>\n",
              "  <tbody>\n",
              "    <tr>\n",
              "      <th>0</th>\n",
              "      <td>140.0</td>\n",
              "    </tr>\n",
              "  </tbody>\n",
              "</table>\n",
              "</div>"
            ],
            "text/plain": [
              "   total_ages\n",
              "0       140.0"
            ]
          },
          "metadata": {},
          "output_type": "display_data"
        }
      ],
      "source": [
        "conn = duckdb.connect(f\"{generators_pipeline.pipeline_name}.duckdb\")\n",
        "\n",
        "# let's see the tables\n",
        "conn.sql(f\"SET search_path = '{generators_pipeline.dataset_name}'\")\n",
        "print('Loaded tables: ')\n",
        "tables = conn.sql(\"show tables\").df()\n",
        "display(tables)\n",
        "\n",
        "# let's see the data\n",
        "print('Loaded data: ')\n",
        "people = conn.sql(\"select * from people\").df()\n",
        "display(people)\n",
        "\n",
        "# display the sum of all ages\n",
        "print('Sum of ages: ')\n",
        "total_ages = conn.sql(\"select sum(Age) total_ages from people\").df()\n",
        "display(total_ages)"
      ]
    },
    {
      "cell_type": "markdown",
      "metadata": {},
      "source": [
        "#### 2. Append the second generator to the same table as the first."
      ]
    },
    {
      "cell_type": "code",
      "execution_count": 18,
      "metadata": {},
      "outputs": [],
      "source": [
        "def people_2():\n",
        "    for i in range(3, 9):\n",
        "        yield {\"ID\": i, \"Name\": f\"Person_{i}\", \"Age\": 30 + i, \"City\": \"City_B\", \"Occupation\": f\"Job_{i}\"}\n",
        "\n",
        "generator_2 = people_2()"
      ]
    },
    {
      "cell_type": "code",
      "execution_count": 19,
      "metadata": {},
      "outputs": [
        {
          "name": "stdout",
          "output_type": "stream",
          "text": [
            "Pipeline dlt_ipykernel_launcher load step completed in 0.25 seconds\n",
            "1 load package(s) were loaded to destination duckdb and into dataset people_container\n",
            "The duckdb destination used duckdb:////Users/sebastianwefers/Desktop/SEMESTER5/Data_Warehouse/Data_Engineering_Zoomcamp/WorkShop_DataIngestionAPIs/dlt_ipykernel_launcher.duckdb location to store data\n",
            "Load package 1707327891.6316001 is LOADED and contains no failed jobs\n",
            "Loaded data: \n"
          ]
        },
        {
          "data": {
            "text/html": [
              "<div>\n",
              "<style scoped>\n",
              "    .dataframe tbody tr th:only-of-type {\n",
              "        vertical-align: middle;\n",
              "    }\n",
              "\n",
              "    .dataframe tbody tr th {\n",
              "        vertical-align: top;\n",
              "    }\n",
              "\n",
              "    .dataframe thead th {\n",
              "        text-align: right;\n",
              "    }\n",
              "</style>\n",
              "<table border=\"1\" class=\"dataframe\">\n",
              "  <thead>\n",
              "    <tr style=\"text-align: right;\">\n",
              "      <th></th>\n",
              "      <th>id</th>\n",
              "      <th>name</th>\n",
              "      <th>age</th>\n",
              "      <th>city</th>\n",
              "      <th>_dlt_load_id</th>\n",
              "      <th>_dlt_id</th>\n",
              "      <th>occupation</th>\n",
              "    </tr>\n",
              "  </thead>\n",
              "  <tbody>\n",
              "    <tr>\n",
              "      <th>0</th>\n",
              "      <td>1</td>\n",
              "      <td>Person_1</td>\n",
              "      <td>26</td>\n",
              "      <td>City_A</td>\n",
              "      <td>1707327891.6316001</td>\n",
              "      <td>9CpxkeRpEoSxyw</td>\n",
              "      <td>None</td>\n",
              "    </tr>\n",
              "    <tr>\n",
              "      <th>1</th>\n",
              "      <td>2</td>\n",
              "      <td>Person_2</td>\n",
              "      <td>27</td>\n",
              "      <td>City_A</td>\n",
              "      <td>1707327891.6316001</td>\n",
              "      <td>ZmYR6VgL+GnTgg</td>\n",
              "      <td>None</td>\n",
              "    </tr>\n",
              "    <tr>\n",
              "      <th>2</th>\n",
              "      <td>3</td>\n",
              "      <td>Person_3</td>\n",
              "      <td>28</td>\n",
              "      <td>City_A</td>\n",
              "      <td>1707327891.6316001</td>\n",
              "      <td>ADwzKZbO3QRn2Q</td>\n",
              "      <td>None</td>\n",
              "    </tr>\n",
              "    <tr>\n",
              "      <th>3</th>\n",
              "      <td>4</td>\n",
              "      <td>Person_4</td>\n",
              "      <td>29</td>\n",
              "      <td>City_A</td>\n",
              "      <td>1707327891.6316001</td>\n",
              "      <td>mLERUvIh71qZDg</td>\n",
              "      <td>None</td>\n",
              "    </tr>\n",
              "    <tr>\n",
              "      <th>4</th>\n",
              "      <td>5</td>\n",
              "      <td>Person_5</td>\n",
              "      <td>30</td>\n",
              "      <td>City_A</td>\n",
              "      <td>1707327891.6316001</td>\n",
              "      <td>T/1xlyW6chzPlw</td>\n",
              "      <td>None</td>\n",
              "    </tr>\n",
              "    <tr>\n",
              "      <th>5</th>\n",
              "      <td>3</td>\n",
              "      <td>Person_3</td>\n",
              "      <td>33</td>\n",
              "      <td>City_B</td>\n",
              "      <td>1707328147.14367</td>\n",
              "      <td>ZvbM+WZVyllDCQ</td>\n",
              "      <td>Job_3</td>\n",
              "    </tr>\n",
              "    <tr>\n",
              "      <th>6</th>\n",
              "      <td>4</td>\n",
              "      <td>Person_4</td>\n",
              "      <td>34</td>\n",
              "      <td>City_B</td>\n",
              "      <td>1707328147.14367</td>\n",
              "      <td>qZ2fbKTdEPPzSQ</td>\n",
              "      <td>Job_4</td>\n",
              "    </tr>\n",
              "    <tr>\n",
              "      <th>7</th>\n",
              "      <td>5</td>\n",
              "      <td>Person_5</td>\n",
              "      <td>35</td>\n",
              "      <td>City_B</td>\n",
              "      <td>1707328147.14367</td>\n",
              "      <td>2/Rz12Lq3NbsSA</td>\n",
              "      <td>Job_5</td>\n",
              "    </tr>\n",
              "    <tr>\n",
              "      <th>8</th>\n",
              "      <td>6</td>\n",
              "      <td>Person_6</td>\n",
              "      <td>36</td>\n",
              "      <td>City_B</td>\n",
              "      <td>1707328147.14367</td>\n",
              "      <td>nCI2ovccSeCkjA</td>\n",
              "      <td>Job_6</td>\n",
              "    </tr>\n",
              "    <tr>\n",
              "      <th>9</th>\n",
              "      <td>7</td>\n",
              "      <td>Person_7</td>\n",
              "      <td>37</td>\n",
              "      <td>City_B</td>\n",
              "      <td>1707328147.14367</td>\n",
              "      <td>nhkq7FiZ+b8UzA</td>\n",
              "      <td>Job_7</td>\n",
              "    </tr>\n",
              "    <tr>\n",
              "      <th>10</th>\n",
              "      <td>8</td>\n",
              "      <td>Person_8</td>\n",
              "      <td>38</td>\n",
              "      <td>City_B</td>\n",
              "      <td>1707328147.14367</td>\n",
              "      <td>EKeFJml2RdEwGw</td>\n",
              "      <td>Job_8</td>\n",
              "    </tr>\n",
              "  </tbody>\n",
              "</table>\n",
              "</div>"
            ],
            "text/plain": [
              "    id      name  age    city        _dlt_load_id         _dlt_id occupation\n",
              "0    1  Person_1   26  City_A  1707327891.6316001  9CpxkeRpEoSxyw       None\n",
              "1    2  Person_2   27  City_A  1707327891.6316001  ZmYR6VgL+GnTgg       None\n",
              "2    3  Person_3   28  City_A  1707327891.6316001  ADwzKZbO3QRn2Q       None\n",
              "3    4  Person_4   29  City_A  1707327891.6316001  mLERUvIh71qZDg       None\n",
              "4    5  Person_5   30  City_A  1707327891.6316001  T/1xlyW6chzPlw       None\n",
              "5    3  Person_3   33  City_B    1707328147.14367  ZvbM+WZVyllDCQ      Job_3\n",
              "6    4  Person_4   34  City_B    1707328147.14367  qZ2fbKTdEPPzSQ      Job_4\n",
              "7    5  Person_5   35  City_B    1707328147.14367  2/Rz12Lq3NbsSA      Job_5\n",
              "8    6  Person_6   36  City_B    1707328147.14367  nCI2ovccSeCkjA      Job_6\n",
              "9    7  Person_7   37  City_B    1707328147.14367  nhkq7FiZ+b8UzA      Job_7\n",
              "10   8  Person_8   38  City_B    1707328147.14367  EKeFJml2RdEwGw      Job_8"
            ]
          },
          "metadata": {},
          "output_type": "display_data"
        },
        {
          "name": "stdout",
          "output_type": "stream",
          "text": [
            "Sum of ages: \n"
          ]
        },
        {
          "data": {
            "text/html": [
              "<div>\n",
              "<style scoped>\n",
              "    .dataframe tbody tr th:only-of-type {\n",
              "        vertical-align: middle;\n",
              "    }\n",
              "\n",
              "    .dataframe tbody tr th {\n",
              "        vertical-align: top;\n",
              "    }\n",
              "\n",
              "    .dataframe thead th {\n",
              "        text-align: right;\n",
              "    }\n",
              "</style>\n",
              "<table border=\"1\" class=\"dataframe\">\n",
              "  <thead>\n",
              "    <tr style=\"text-align: right;\">\n",
              "      <th></th>\n",
              "      <th>total_ages</th>\n",
              "    </tr>\n",
              "  </thead>\n",
              "  <tbody>\n",
              "    <tr>\n",
              "      <th>0</th>\n",
              "      <td>353.0</td>\n",
              "    </tr>\n",
              "  </tbody>\n",
              "</table>\n",
              "</div>"
            ],
            "text/plain": [
              "   total_ages\n",
              "0       353.0"
            ]
          },
          "metadata": {},
          "output_type": "display_data"
        }
      ],
      "source": [
        "# append the second generator to the same table\n",
        "info2 = generators_pipeline.run(\n",
        "                            data              = generator_2,\n",
        "\t\t\t\t\t\t\ttable_name        = \"people\",\n",
        "\t\t\t\t\t\t\twrite_disposition = \"append\"\n",
        ")\n",
        "\n",
        "# the outcome metadata is returned by the load and we can inspect it by printing it.\n",
        "print(info2)\n",
        "\n",
        "# let's see the data\n",
        "print('Loaded data: ')\n",
        "people = conn.sql(\"select * from people\").df()\n",
        "display(people)"
      ]
    },
    {
      "cell_type": "markdown",
      "metadata": {},
      "source": [
        "#### 3. **After correctly appending the data, calculate the sum of all ages of people.**"
      ]
    },
    {
      "cell_type": "code",
      "execution_count": 20,
      "metadata": {},
      "outputs": [
        {
          "name": "stdout",
          "output_type": "stream",
          "text": [
            "Sum of ages: \n"
          ]
        },
        {
          "data": {
            "text/html": [
              "<div>\n",
              "<style scoped>\n",
              "    .dataframe tbody tr th:only-of-type {\n",
              "        vertical-align: middle;\n",
              "    }\n",
              "\n",
              "    .dataframe tbody tr th {\n",
              "        vertical-align: top;\n",
              "    }\n",
              "\n",
              "    .dataframe thead th {\n",
              "        text-align: right;\n",
              "    }\n",
              "</style>\n",
              "<table border=\"1\" class=\"dataframe\">\n",
              "  <thead>\n",
              "    <tr style=\"text-align: right;\">\n",
              "      <th></th>\n",
              "      <th>total_ages</th>\n",
              "    </tr>\n",
              "  </thead>\n",
              "  <tbody>\n",
              "    <tr>\n",
              "      <th>0</th>\n",
              "      <td>353.0</td>\n",
              "    </tr>\n",
              "  </tbody>\n",
              "</table>\n",
              "</div>"
            ],
            "text/plain": [
              "   total_ages\n",
              "0       353.0"
            ]
          },
          "metadata": {},
          "output_type": "display_data"
        }
      ],
      "source": [
        "# display the sum of all ages\n",
        "print('Sum of ages: ')\n",
        "total_ages = conn.sql(\"select sum(Age) total_ages from people\").df()\n",
        "display(total_ages)"
      ]
    },
    {
      "cell_type": "markdown",
      "metadata": {
        "id": "pY4cFAWOSwN1"
      },
      "source": [
        "# 3. Merge a generator\n",
        "---\n",
        "Re-use the generators from Exercise 2.\n",
        "\n",
        "A table's primary key needs to be created from the start, so load your data to a new table with primary key ID.\n",
        "\n",
        "Load your first generator first, and then load the second one with merge. Since they have overlapping IDs, some of the records from the first load should be replaced by the ones from the second load.\n",
        "\n",
        "After loading, you should have a total of 8 records, and ID 3 should have age 33.\n",
        "\n",
        "#### ***`Question:`***\n",
        "-  **Calculate the sum of ages of all the people loaded as described above.**\n",
        "---"
      ]
    },
    {
      "cell_type": "markdown",
      "metadata": {},
      "source": [
        "- Initialize new data set and connection:"
      ]
    },
    {
      "cell_type": "code",
      "execution_count": 31,
      "metadata": {},
      "outputs": [
        {
          "name": "stdout",
          "output_type": "stream",
          "text": [
            "Loaded tables: \n"
          ]
        },
        {
          "data": {
            "text/html": [
              "<div>\n",
              "<style scoped>\n",
              "    .dataframe tbody tr th:only-of-type {\n",
              "        vertical-align: middle;\n",
              "    }\n",
              "\n",
              "    .dataframe tbody tr th {\n",
              "        vertical-align: top;\n",
              "    }\n",
              "\n",
              "    .dataframe thead th {\n",
              "        text-align: right;\n",
              "    }\n",
              "</style>\n",
              "<table border=\"1\" class=\"dataframe\">\n",
              "  <thead>\n",
              "    <tr style=\"text-align: right;\">\n",
              "      <th></th>\n",
              "      <th>name</th>\n",
              "    </tr>\n",
              "  </thead>\n",
              "  <tbody>\n",
              "    <tr>\n",
              "      <th>0</th>\n",
              "      <td>_dlt_loads</td>\n",
              "    </tr>\n",
              "    <tr>\n",
              "      <th>1</th>\n",
              "      <td>_dlt_pipeline_state</td>\n",
              "    </tr>\n",
              "    <tr>\n",
              "      <th>2</th>\n",
              "      <td>_dlt_version</td>\n",
              "    </tr>\n",
              "    <tr>\n",
              "      <th>3</th>\n",
              "      <td>peoples</td>\n",
              "    </tr>\n",
              "  </tbody>\n",
              "</table>\n",
              "</div>"
            ],
            "text/plain": [
              "                  name\n",
              "0           _dlt_loads\n",
              "1  _dlt_pipeline_state\n",
              "2         _dlt_version\n",
              "3              peoples"
            ]
          },
          "metadata": {},
          "output_type": "display_data"
        },
        {
          "name": "stdout",
          "output_type": "stream",
          "text": [
            "\n",
            "\n",
            "\n",
            " The merged peoples table:\n"
          ]
        },
        {
          "data": {
            "text/html": [
              "<div>\n",
              "<style scoped>\n",
              "    .dataframe tbody tr th:only-of-type {\n",
              "        vertical-align: middle;\n",
              "    }\n",
              "\n",
              "    .dataframe tbody tr th {\n",
              "        vertical-align: top;\n",
              "    }\n",
              "\n",
              "    .dataframe thead th {\n",
              "        text-align: right;\n",
              "    }\n",
              "</style>\n",
              "<table border=\"1\" class=\"dataframe\">\n",
              "  <thead>\n",
              "    <tr style=\"text-align: right;\">\n",
              "      <th></th>\n",
              "      <th>id</th>\n",
              "      <th>name</th>\n",
              "      <th>age</th>\n",
              "      <th>city</th>\n",
              "      <th>_dlt_load_id</th>\n",
              "      <th>_dlt_id</th>\n",
              "      <th>occupation</th>\n",
              "    </tr>\n",
              "  </thead>\n",
              "  <tbody>\n",
              "    <tr>\n",
              "      <th>0</th>\n",
              "      <td>1</td>\n",
              "      <td>Person_1</td>\n",
              "      <td>26</td>\n",
              "      <td>City_A</td>\n",
              "      <td>1707329397.5439308</td>\n",
              "      <td>dRXz9WAYdZ6YXQ</td>\n",
              "      <td>None</td>\n",
              "    </tr>\n",
              "    <tr>\n",
              "      <th>1</th>\n",
              "      <td>2</td>\n",
              "      <td>Person_2</td>\n",
              "      <td>27</td>\n",
              "      <td>City_A</td>\n",
              "      <td>1707329397.5439308</td>\n",
              "      <td>WjusyAktzFzN+g</td>\n",
              "      <td>None</td>\n",
              "    </tr>\n",
              "    <tr>\n",
              "      <th>2</th>\n",
              "      <td>4</td>\n",
              "      <td>Person_4</td>\n",
              "      <td>34</td>\n",
              "      <td>City_B</td>\n",
              "      <td>1707329398.161943</td>\n",
              "      <td>VQrfhjdBZsg26A</td>\n",
              "      <td>Job_4</td>\n",
              "    </tr>\n",
              "    <tr>\n",
              "      <th>3</th>\n",
              "      <td>7</td>\n",
              "      <td>Person_7</td>\n",
              "      <td>37</td>\n",
              "      <td>City_B</td>\n",
              "      <td>1707329398.161943</td>\n",
              "      <td>86dfIVArN6qJgQ</td>\n",
              "      <td>Job_7</td>\n",
              "    </tr>\n",
              "    <tr>\n",
              "      <th>4</th>\n",
              "      <td>5</td>\n",
              "      <td>Person_5</td>\n",
              "      <td>35</td>\n",
              "      <td>City_B</td>\n",
              "      <td>1707329398.161943</td>\n",
              "      <td>Ho15U6NEw4efGw</td>\n",
              "      <td>Job_5</td>\n",
              "    </tr>\n",
              "    <tr>\n",
              "      <th>5</th>\n",
              "      <td>8</td>\n",
              "      <td>Person_8</td>\n",
              "      <td>38</td>\n",
              "      <td>City_B</td>\n",
              "      <td>1707329398.161943</td>\n",
              "      <td>fpAtzFBrP9ni8g</td>\n",
              "      <td>Job_8</td>\n",
              "    </tr>\n",
              "    <tr>\n",
              "      <th>6</th>\n",
              "      <td>3</td>\n",
              "      <td>Person_3</td>\n",
              "      <td>33</td>\n",
              "      <td>City_B</td>\n",
              "      <td>1707329398.161943</td>\n",
              "      <td>Ut2TLba42peLDQ</td>\n",
              "      <td>Job_3</td>\n",
              "    </tr>\n",
              "    <tr>\n",
              "      <th>7</th>\n",
              "      <td>6</td>\n",
              "      <td>Person_6</td>\n",
              "      <td>36</td>\n",
              "      <td>City_B</td>\n",
              "      <td>1707329398.161943</td>\n",
              "      <td>s2DMoob156mWEg</td>\n",
              "      <td>Job_6</td>\n",
              "    </tr>\n",
              "  </tbody>\n",
              "</table>\n",
              "</div>"
            ],
            "text/plain": [
              "   id      name  age    city        _dlt_load_id         _dlt_id occupation\n",
              "0   1  Person_1   26  City_A  1707329397.5439308  dRXz9WAYdZ6YXQ       None\n",
              "1   2  Person_2   27  City_A  1707329397.5439308  WjusyAktzFzN+g       None\n",
              "2   4  Person_4   34  City_B   1707329398.161943  VQrfhjdBZsg26A      Job_4\n",
              "3   7  Person_7   37  City_B   1707329398.161943  86dfIVArN6qJgQ      Job_7\n",
              "4   5  Person_5   35  City_B   1707329398.161943  Ho15U6NEw4efGw      Job_5\n",
              "5   8  Person_8   38  City_B   1707329398.161943  fpAtzFBrP9ni8g      Job_8\n",
              "6   3  Person_3   33  City_B   1707329398.161943  Ut2TLba42peLDQ      Job_3\n",
              "7   6  Person_6   36  City_B   1707329398.161943  s2DMoob156mWEg      Job_6"
            ]
          },
          "metadata": {},
          "output_type": "display_data"
        },
        {
          "name": "stdout",
          "output_type": "stream",
          "text": [
            "Solution\n",
            "~~~~~~~~~~~~~~~~~~~~~~~~~~~~~~~~~~~~~~~\n",
            "The sum of all ages from 8 people is: 266.\n"
          ]
        }
      ],
      "source": [
        "def people_1():\n",
        "    for i in range(1, 6):\n",
        "        yield {\"ID\": i, \"Name\": f\"Person_{i}\", \"Age\": 25 + i, \"City\": \"City_A\"}\n",
        "\n",
        "def people_2():\n",
        "    for i in range(3, 9):\n",
        "        yield {\"ID\": i, \"Name\": f\"Person_{i}\", \"Age\": 30 + i, \"City\": \"City_B\", \"Occupation\": f\"Job_{i}\"}\n",
        "\n",
        "generator_1 = people_1()\n",
        "generator_2 = people_2()\n",
        "\n",
        "generators_pipeline2 = dlt.pipeline(\n",
        "                            destination  = 'duckdb',\n",
        "                            dataset_name = 'peoples_to_be_merged'\n",
        ")\n",
        "\n",
        "# Load the first generator\n",
        "info_1 = generators_pipeline2.run(\n",
        "                            data              = generator_1,\n",
        "                            table_name        = \"peoples\",\n",
        "                            write_disposition = \"replace\"\n",
        ")\n",
        "\n",
        "# Load the second generator with 'merge' logic\n",
        "\n",
        "info_2 = generators_pipeline2.run(\n",
        "                            data              = generator_2,\n",
        "                            table_name        = \"peoples\",\n",
        "                            write_disposition = \"merge\",\n",
        "                            primary_key       = \"id\"\n",
        ")\n",
        "\n",
        "# connect:\n",
        "conn2 = duckdb.connect(f\"{generators_pipeline2.pipeline_name}.duckdb\")\n",
        "# set the search path\n",
        "conn2.sql(f\"SET search_path = '{generators_pipeline2.dataset_name}'\")\n",
        "\n",
        "# Display the tables\n",
        "print('Loaded tables: ')\n",
        "table = conn2.sql(\"show tables\").df()\n",
        "display(table)\n",
        "\n",
        "# Display the data\n",
        "print(\"\\n\\n\\n The merged peoples table:\")\n",
        "peoples = conn2.sql(\"SELECT * FROM peoples_to_be_merged.peoples\").df()\n",
        "display(peoples)\n",
        "\n",
        "# Calculate the sum of ages\n",
        "sum_of_ages    = conn2.sql(\"SELECT SUM(Age) FROM peoples_to_be_merged.peoples\").fetchone()[0]\n",
        "n_observations = conn2.sql(\"SELECT COUNT(*) FROM peoples_to_be_merged.peoples\").fetchone()[0]\n",
        "print(f\"Solution\\n{39*'~'}\\nThe sum of all ages from {n_observations} people is: {sum_of_ages}.\")"
      ]
    },
    {
      "cell_type": "code",
      "execution_count": null,
      "metadata": {},
      "outputs": [],
      "source": []
    },
    {
      "cell_type": "markdown",
      "metadata": {
        "id": "kKB2GTB9oVjr"
      },
      "source": [
        "# Solution: First make sure that the following modules are installed:"
      ]
    },
    {
      "cell_type": "code",
      "execution_count": null,
      "metadata": {
        "id": "xTVvtyqrfVNq"
      },
      "outputs": [],
      "source": [
        "#Install the dependencies\n",
        "%%capture\n",
        "!pip install dlt[duckdb]"
      ]
    },
    {
      "cell_type": "code",
      "execution_count": null,
      "metadata": {
        "id": "a2-PRBAkGC2K"
      },
      "outputs": [],
      "source": [
        "# to do: homework :)"
      ]
    },
    {
      "cell_type": "markdown",
      "metadata": {
        "id": "PoTJu4kbGG0z"
      },
      "source": [
        "Questions? difficulties? We are here to help.\n",
        "- DTC data engineering course channel: https://datatalks-club.slack.com/archives/C01FABYF2RG\n",
        "- dlt's DTC cohort channel: https://dlthub-community.slack.com/archives/C06GAEX2VNX"
      ]
    },
    {
      "cell_type": "code",
      "execution_count": 6,
      "metadata": {},
      "outputs": [
        {
          "data": {
            "text/plain": [
              "9166.666666666666"
            ]
          },
          "execution_count": 6,
          "metadata": {},
          "output_type": "execute_result"
        }
      ],
      "source": [
        "110_000/12"
      ]
    },
    {
      "cell_type": "code",
      "execution_count": null,
      "metadata": {},
      "outputs": [],
      "source": []
    }
  ],
  "metadata": {
    "colab": {
      "provenance": []
    },
    "kernelspec": {
      "display_name": "Python 3",
      "name": "python3"
    },
    "language_info": {
      "codemirror_mode": {
        "name": "ipython",
        "version": 3
      },
      "file_extension": ".py",
      "mimetype": "text/x-python",
      "name": "python",
      "nbconvert_exporter": "python",
      "pygments_lexer": "ipython3",
      "version": "3.10.10"
    }
  },
  "nbformat": 4,
  "nbformat_minor": 0
}
